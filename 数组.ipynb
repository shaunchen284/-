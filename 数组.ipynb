{
 "cells": [
  {
   "cell_type": "markdown",
   "id": "fad8b703",
   "metadata": {},
   "source": [
    "### 二分查找"
   ]
  },
  {
   "cell_type": "code",
   "execution_count": null,
   "id": "1a15eaa8",
   "metadata": {},
   "outputs": [],
   "source": [
    "class Solution:\n",
    "    # 左闭右闭\n",
    "    def search(self,nums:list[int],target:int)->int:\n",
    "        left,right = 0,len(nums)-1\n",
    "        while left<=right:\n",
    "            middle = left+ (right-left)//2\n",
    "            if nums[middle]>target:\n",
    "                right = middle-1\n",
    "            elif nums[middle]<target:\n",
    "                left = middle+1\n",
    "            else:\n",
    "                return middle\n",
    "        return -1"
   ]
  },
  {
   "cell_type": "code",
   "execution_count": null,
   "id": "9d9a83b4",
   "metadata": {},
   "outputs": [],
   "source": [
    "class Solution:\n",
    "    # 左闭右开\n",
    "    def search(self,nums:list[int],target:int)->int:\n",
    "        left,right = 0,len(nums)\n",
    "        while left<right:\n",
    "            middle = left+ (right-left)//2\n",
    "            if nums[middle]>target:\n",
    "                right = middle\n",
    "            elif nums[middle]<target:\n",
    "                left = middle+1\n",
    "            else:\n",
    "                return middle\n",
    "        return -1"
   ]
  },
  {
   "cell_type": "markdown",
   "id": "7433fdbe",
   "metadata": {},
   "source": [
    "### 移除元素"
   ]
  },
  {
   "cell_type": "code",
   "execution_count": null,
   "id": "dd2f12ac",
   "metadata": {},
   "outputs": [],
   "source": [
    "class Solution:\n",
    "    # 暴力解法\n",
    "    def removeElement(self,nums:list[int],val:int)->int:\n",
    "        i,l = 0,len(nums)\n",
    "        while i<l:\n",
    "            if nums[i] ==val:\n",
    "                for j in range(i+1,l):\n",
    "                    nums[j-1] = nums[j]\n",
    "                l-=1\n",
    "                i-=1\n",
    "            i+=1\n",
    "        return l"
   ]
  },
  {
   "cell_type": "code",
   "execution_count": 2,
   "id": "d1ed010d",
   "metadata": {},
   "outputs": [],
   "source": [
    "class Solution:\n",
    "    # 快速指针法\n",
    "    def removeElement(self, nums: list[int], val: int) -> int:\n",
    "        fast = 0\n",
    "        slow = 0\n",
    "        l = len(nums)\n",
    "        while fast<l:\n",
    "            if nums[fast]!=val:\n",
    "                nums[slow] = nums[fast]\n",
    "                slow +=1\n",
    "            fast +=1\n",
    "        return slow"
   ]
  },
  {
   "cell_type": "markdown",
   "id": "458059ae",
   "metadata": {},
   "source": [
    "### 有序数组的平方"
   ]
  },
  {
   "cell_type": "code",
   "execution_count": null,
   "id": "bc1b90c2",
   "metadata": {},
   "outputs": [],
   "source": [
    "class Solution:\n",
    "    # 暴力排序法\n",
    "    def sortedSquares(self,nums:list[int])->list[int]:\n",
    "        for i in range(len(nums)):\n",
    "            nums[i] = nums[i]**2\n",
    "        nums.sort()\n",
    "        return nums"
   ]
  },
  {
   "cell_type": "code",
   "execution_count": 8,
   "id": "a1eb833f",
   "metadata": {},
   "outputs": [
    {
     "data": {
      "text/plain": [
       "2"
      ]
     },
     "execution_count": 8,
     "metadata": {},
     "output_type": "execute_result"
    }
   ],
   "source": [
    "class Solution:\n",
    "    # 双指针法\n",
    "    def sortedSquares(self,nums:list[int])->list[int]:\n",
    "        i,j,k = 0,len(nums)-1,len(nums)-1 # float('inf') 用于表示正无穷大（infinity）\n",
    "        result = [float('inf')]*5 # \n",
    "        # 初始化为正无穷大可以确保任何实际值都会替代这些初始值\n",
    "        while i<=j:\n",
    "            # 不可以i<j，否则当k=0时，已经结束了循环，\n",
    "            # 虽然到了0位，但是无法给result赋值\n",
    "            if nums[i]**2 < nums[j]**2:\n",
    "                result[k] = nums[j]**2\n",
    "                k-=1\n",
    "                j-=1\n",
    "            else:\n",
    "                result[k] = nums[i]**2\n",
    "                k-=1\n",
    "                i+=1\n",
    "        return result"
   ]
  },
  {
   "cell_type": "code",
   "execution_count": null,
   "id": "7d679546",
   "metadata": {},
   "outputs": [],
   "source": [
    "httpsgithub.comshaunchen284-.git"
   ]
  },
  {
   "cell_type": "code",
   "execution_count": 12,
   "id": "1dc0237d",
   "metadata": {},
   "outputs": [
    {
     "data": {
      "text/plain": [
       "[0, 0, 0, 0, 0]"
      ]
     },
     "execution_count": 12,
     "metadata": {},
     "output_type": "execute_result"
    }
   ],
   "source": [
    "result = [0]*5\n",
    "result"
   ]
  }
 ],
 "metadata": {
  "kernelspec": {
   "display_name": "Python 3",
   "language": "python",
   "name": "python3"
  },
  "language_info": {
   "codemirror_mode": {
    "name": "ipython",
    "version": 3
   },
   "file_extension": ".py",
   "mimetype": "text/x-python",
   "name": "python",
   "nbconvert_exporter": "python",
   "pygments_lexer": "ipython3",
   "version": "3.9.17"
  }
 },
 "nbformat": 4,
 "nbformat_minor": 5
}
