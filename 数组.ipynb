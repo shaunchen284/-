{
 "cells": [
  {
   "cell_type": "markdown",
   "id": "fad8b703",
   "metadata": {},
   "source": [
    "### 二分查找"
   ]
  },
  {
   "cell_type": "code",
   "execution_count": null,
   "id": "1a15eaa8",
   "metadata": {},
   "outputs": [],
   "source": [
    "class Solution:\n",
    "    # 左闭右闭\n",
    "    def search(self,nums:list[int],target:int)->int:\n",
    "        left,right = 0,len(nums)-1\n",
    "        while left<=right:\n",
    "            middle = left+ (right-left)//2\n",
    "            if nums[middle]>target:\n",
    "                right = middle-1\n",
    "            elif nums[middle]<target:\n",
    "                left = middle+1\n",
    "            else:\n",
    "                return middle\n",
    "        return -1"
   ]
  },
  {
   "cell_type": "code",
   "execution_count": null,
   "id": "9d9a83b4",
   "metadata": {},
   "outputs": [],
   "source": [
    "class Solution:\n",
    "    # 左闭右开\n",
    "    def search(self,nums:list[int],target:int)->int:\n",
    "        left,right = 0,len(nums)\n",
    "        while left<right:\n",
    "            middle = left+ (right-left)//2\n",
    "            if nums[middle]>target:\n",
    "                right = middle\n",
    "            elif nums[middle]<target:\n",
    "                left = middle+1\n",
    "            else:\n",
    "                return middle\n",
    "        return -1"
   ]
  },
  {
   "cell_type": "markdown",
   "id": "7433fdbe",
   "metadata": {},
   "source": [
    "### 移除元素"
   ]
  },
  {
   "cell_type": "code",
   "execution_count": null,
   "id": "dd2f12ac",
   "metadata": {},
   "outputs": [],
   "source": [
    "class Solution:\n",
    "    # 暴力解法\n",
    "    def removeElement(self,nums:list[int],val:int)->int:\n",
    "        i,l = 0,len(nums)\n",
    "        while i<l:\n",
    "            if nums[i] ==val:\n",
    "                for j in range(i+1,l):\n",
    "                    nums[j-1] = nums[j]\n",
    "                l-=1\n",
    "                i-=1\n",
    "            i+=1\n",
    "        return l"
   ]
  },
  {
   "cell_type": "code",
   "execution_count": 2,
   "id": "d1ed010d",
   "metadata": {},
   "outputs": [],
   "source": [
    "class Solution:\n",
    "    # 快速指针法\n",
    "    def removeElement(self, nums: list[int], val: int) -> int:\n",
    "        fast = 0\n",
    "        slow = 0\n",
    "        l = len(nums)\n",
    "        while fast<l:\n",
    "            if nums[fast]!=val:\n",
    "                nums[slow] = nums[fast]\n",
    "                slow +=1\n",
    "            fast +=1\n",
    "        return slow"
   ]
  },
  {
   "cell_type": "markdown",
   "id": "458059ae",
   "metadata": {},
   "source": [
    "### 有序数组的平方"
   ]
  },
  {
   "cell_type": "code",
   "execution_count": null,
   "id": "bc1b90c2",
   "metadata": {},
   "outputs": [],
   "source": [
    "class Solution:\n",
    "    # 暴力排序法\n",
    "    def sortedSquares(self,nums:list[int])->list[int]:\n",
    "        for i in range(len(nums)):\n",
    "            nums[i] = nums[i]**2\n",
    "        nums.sort()\n",
    "        return nums"
   ]
  },
  {
   "cell_type": "code",
   "execution_count": 8,
   "id": "a1eb833f",
   "metadata": {},
   "outputs": [
    {
     "data": {
      "text/plain": [
       "2"
      ]
     },
     "execution_count": 8,
     "metadata": {},
     "output_type": "execute_result"
    }
   ],
   "source": [
    "class Solution:\n",
    "    # 双指针法\n",
    "    def sortedSquares(self,nums:list[int])->list[int]:\n",
    "        i,j,k = 0,len(nums)-1,len(nums)-1 # float('inf') 用于表示正无穷大（infinity）\n",
    "        result = [float('inf')]*5 # \n",
    "        # 初始化为正无穷大可以确保任何实际值都会替代这些初始值\n",
    "        while i<=j:\n",
    "            # 不可以i<j，否则当k=0时，已经结束了循环，\n",
    "            # 虽然到了0位，但是无法给result赋值\n",
    "            if nums[i]**2 < nums[j]**2:\n",
    "                result[k] = nums[j]**2\n",
    "                k-=1\n",
    "                j-=1\n",
    "            else:\n",
    "                result[k] = nums[i]**2\n",
    "                k-=1\n",
    "                i+=1\n",
    "        return result"
   ]
  },
  {
   "cell_type": "markdown",
   "id": "73a4ac0c",
   "metadata": {},
   "source": [
    "### 长度最小的数组"
   ]
  },
  {
   "cell_type": "code",
   "execution_count": 1,
   "id": "1dc0237d",
   "metadata": {},
   "outputs": [],
   "source": [
    "class Solution:\n",
    "    # 滑动窗口法\n",
    "    def minSubArrayLen(self,s:int,nums:list[int]):\n",
    "        l = len(nums)\n",
    "        left = 0\n",
    "        right = 0\n",
    "        min_len = float('inf')\n",
    "        sum = 0\n",
    "        while right<l:\n",
    "            sum += nums[right]\n",
    "            while sum>=s:\n",
    "            # 这里解释一下为什用while而不是if：假如右指针达到最右侧，就会退出循环，\n",
    "            # 左指针就不会继续向右移动寻找最小值\n",
    "                min_len = min(min_len,right-left+1)\n",
    "                sum -= nums[left]\n",
    "                left +=1\n",
    "            right+=1\n",
    "        return min_len if min_len!=float('inf') else 0\n"
   ]
  },
  {
   "cell_type": "code",
   "execution_count": null,
   "id": "e3b7d52c",
   "metadata": {},
   "outputs": [],
   "source": [
    "class Solution:\n",
    "    # 暴力法\n",
    "    def minSubArrayLen(self,s:int,nums:list[int]):\n",
    "        l = len(nums)\n",
    "        min_len = float('inf')\n",
    "        for i in range(l): # 从起始位置开始往后遍历，i为左指针\n",
    "            sum = 0\n",
    "            for j in range(i,l): # 右指针为从左指针处开始向右滑动\n",
    "                sum += nums[j]\n",
    "                if sum>=s:\n",
    "                    min_len = min(j-i+1,min_len) \n",
    "                    break # 跳出循环，因为继续往右移动只会更大\n",
    "                # 犯了一个错误，break跟if对齐了，此时不能实现及时跳出循环\n",
    "        return min_len if min_len!=float('inf') else 0"
   ]
  },
  {
   "cell_type": "markdown",
   "id": "7a7cd84d",
   "metadata": {},
   "source": [
    "### 螺旋矩阵II"
   ]
  },
  {
   "cell_type": "code",
   "execution_count": 7,
   "id": "d2553f7d",
   "metadata": {},
   "outputs": [],
   "source": [
    "class Solution:\n",
    "    def generateMatrix(self,n:int)->list[list[int]]:\n",
    "        nums = [[0]*n for _ in range(n) ]# 初始化矩阵\n",
    "        # 例如[0]*5 ->[0, 0, 0, 0, 0] 外加使用循环，就会形成5x5的矩阵\n",
    "        loop = n//2 # 循环的圈数，例：n=4,循环2圈，n=5,循环2圈，外加单独赋值一个中心点\n",
    "        mid = n//2 # 如果n为奇数，则(mid,mid)就是最后那个中心点的索引\n",
    "        count = 1 # 从1到n计数\n",
    "        start_x = 0 # 行索引每圈的起始点\n",
    "        start_y = 0 # 列索引每圈的起始点,其实(start_x,start_y)是沿着主对角线移动\n",
    "        offset = 1 # 左闭右开，所以需要偏移量，且它每圈都会递增\n",
    "        # 每圈循环开始\n",
    "        for _ in range(1,loop+1): # 1到loop+1，左闭右开，总共loop个循环\n",
    "            # n-offset刚好是最后一列/行的索引\n",
    "            for i in range(start_y,n-offset): # 上边开始，从左到右，n也为边长\n",
    "                nums[start_x][i] = count\n",
    "                count+=1\n",
    "            for i in range(start_x,n-offset): # 右边开始，从上到下\n",
    "                nums[i][n-offset] = count\n",
    "                count+=1\n",
    "            for i in range(n-offset,start_y,-1): # 下边开始，从右到左\n",
    "                nums[n-offset][i] = count\n",
    "                count+=1\n",
    "            for i in range(n-offset,start_x,-1): # 左边开始，从下到上\n",
    "                nums[i][start_y] = count\n",
    "                count+=1\n",
    "            start_x +=1\n",
    "            start_y +=1\n",
    "        if n%2==1:                           # n为奇数时，填充中心点\n",
    "            nums[mid][mid] = count\n",
    "        return nums"
   ]
  }
 ],
 "metadata": {
  "kernelspec": {
   "display_name": "Python 3",
   "language": "python",
   "name": "python3"
  },
  "language_info": {
   "codemirror_mode": {
    "name": "ipython",
    "version": 3
   },
   "file_extension": ".py",
   "mimetype": "text/x-python",
   "name": "python",
   "nbconvert_exporter": "python",
   "pygments_lexer": "ipython3",
   "version": "3.9.17"
  }
 },
 "nbformat": 4,
 "nbformat_minor": 5
}
